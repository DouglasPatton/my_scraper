{
 "cells": [
  {
   "cell_type": "code",
   "execution_count": 1,
   "metadata": {},
   "outputs": [
    {
     "name": "stdout",
     "output_type": "stream",
     "text": [
      "------------------------\n",
      "urllib error https://raw.githubusercontent.com/quanted/hms_app/dev/models/meteorology/precipitation_parameters.py\n"
     ]
    },
    {
     "ename": "UnboundLocalError",
     "evalue": "local variable 'filename' referenced before assignment",
     "output_type": "error",
     "traceback": [
      "\u001b[1;31m---------------------------------------------------------------------------\u001b[0m",
      "\u001b[1;31mUnboundLocalError\u001b[0m                         Traceback (most recent call last)",
      "\u001b[1;32m<ipython-input-1-eba105155370>\u001b[0m in \u001b[0;36m<module>\u001b[1;34m\u001b[0m\n\u001b[0;32m      8\u001b[0m \u001b[0mthe_model\u001b[0m\u001b[1;33m=\u001b[0m\u001b[1;34m'Meteorology'\u001b[0m\u001b[1;33m;\u001b[0m\u001b[0mthe_submodel\u001b[0m\u001b[1;33m=\u001b[0m\u001b[1;34m'Precipitation'\u001b[0m\u001b[1;33m;\u001b[0m\u001b[0mthe_doc_type\u001b[0m\u001b[1;33m=\u001b[0m\u001b[1;34m'input_parameters'\u001b[0m\u001b[1;33m\u001b[0m\u001b[1;33m\u001b[0m\u001b[0m\n\u001b[0;32m      9\u001b[0m \u001b[0mprecipitation\u001b[0m\u001b[1;33m.\u001b[0m\u001b[0mpull_overview\u001b[0m\u001b[1;33m(\u001b[0m\u001b[0mmodel\u001b[0m\u001b[1;33m=\u001b[0m\u001b[0mthe_model\u001b[0m\u001b[1;33m,\u001b[0m\u001b[0msubmodel\u001b[0m\u001b[1;33m=\u001b[0m\u001b[0mthe_submodel\u001b[0m\u001b[1;33m,\u001b[0m\u001b[0mdoc_type\u001b[0m\u001b[1;33m=\u001b[0m\u001b[0mthe_doc_type\u001b[0m\u001b[1;33m)\u001b[0m\u001b[1;33m\u001b[0m\u001b[1;33m\u001b[0m\u001b[0m\n\u001b[1;32m---> 10\u001b[1;33m \u001b[0mprecipitation\u001b[0m\u001b[1;33m.\u001b[0m\u001b[0mpull_input_params\u001b[0m\u001b[1;33m(\u001b[0m\u001b[0mmodel\u001b[0m\u001b[1;33m=\u001b[0m\u001b[0mthe_model\u001b[0m\u001b[1;33m)\u001b[0m\u001b[1;33m\u001b[0m\u001b[1;33m\u001b[0m\u001b[0m\n\u001b[0m\u001b[0;32m     11\u001b[0m \u001b[0mprecipitation\u001b[0m\u001b[1;33m.\u001b[0m\u001b[0mdo_doc_compare\u001b[0m\u001b[1;33m(\u001b[0m\u001b[0mmodel\u001b[0m\u001b[1;33m=\u001b[0m\u001b[0mthe_model\u001b[0m\u001b[1;33m,\u001b[0m\u001b[0msubmodel\u001b[0m\u001b[1;33m=\u001b[0m\u001b[0mthe_submodel\u001b[0m\u001b[1;33m)\u001b[0m\u001b[1;33m\u001b[0m\u001b[1;33m\u001b[0m\u001b[0m\n\u001b[0;32m     12\u001b[0m \u001b[0mprecipitation\u001b[0m\u001b[1;33m.\u001b[0m\u001b[0mdoc_compare_to_table\u001b[0m\u001b[1;33m(\u001b[0m\u001b[1;33m)\u001b[0m\u001b[1;33m\u001b[0m\u001b[1;33m\u001b[0m\u001b[0m\n",
      "\u001b[1;32m~\\gits\\my_scraper\\scrape_tools.py\u001b[0m in \u001b[0;36mpull_input_params\u001b[1;34m(self, model, baseurl)\u001b[0m\n\u001b[0;32m    264\u001b[0m             \u001b[0mfilename\u001b[0m\u001b[1;33m,\u001b[0m \u001b[0mheaders\u001b[0m \u001b[1;33m=\u001b[0m \u001b[0murllib\u001b[0m\u001b[1;33m.\u001b[0m\u001b[0mrequest\u001b[0m\u001b[1;33m.\u001b[0m\u001b[0murlretrieve\u001b[0m\u001b[1;33m(\u001b[0m\u001b[0mbaseurl\u001b[0m\u001b[1;33m,\u001b[0m \u001b[0mfilename\u001b[0m\u001b[1;33m=\u001b[0m\u001b[0mdir_path\u001b[0m\u001b[1;33m+\u001b[0m\u001b[1;34m\"\\\\data\\\\{}_input_param_{}.py\"\u001b[0m\u001b[1;33m.\u001b[0m\u001b[0mformat\u001b[0m\u001b[1;33m(\u001b[0m\u001b[0mmodel\u001b[0m\u001b[1;33m.\u001b[0m\u001b[0mlower\u001b[0m\u001b[1;33m(\u001b[0m\u001b[1;33m)\u001b[0m\u001b[1;33m,\u001b[0m\u001b[0mtimestr\u001b[0m\u001b[1;33m)\u001b[0m\u001b[1;33m)\u001b[0m\u001b[1;33m\u001b[0m\u001b[1;33m\u001b[0m\u001b[0m\n\u001b[0;32m    265\u001b[0m         \u001b[1;32mexcept\u001b[0m\u001b[1;33m:\u001b[0m \u001b[0mprint\u001b[0m\u001b[1;33m(\u001b[0m\u001b[1;34m'urllib error'\u001b[0m\u001b[1;33m,\u001b[0m\u001b[0mbaseurl\u001b[0m\u001b[1;33m)\u001b[0m\u001b[1;33m\u001b[0m\u001b[1;33m\u001b[0m\u001b[0m\n\u001b[1;32m--> 266\u001b[1;33m         \u001b[1;32mwith\u001b[0m \u001b[0mopen\u001b[0m\u001b[1;33m(\u001b[0m\u001b[0mfilename\u001b[0m\u001b[1;33m,\u001b[0m\u001b[1;34m'rU'\u001b[0m\u001b[1;33m)\u001b[0m \u001b[1;32mas\u001b[0m \u001b[0minput_params\u001b[0m\u001b[1;33m:\u001b[0m\u001b[1;33m\u001b[0m\u001b[1;33m\u001b[0m\u001b[0m\n\u001b[0m\u001b[0;32m    267\u001b[0m             \u001b[1;31m#use .strip() method to remove line-endings and whitespace\u001b[0m\u001b[1;33m\u001b[0m\u001b[1;33m\u001b[0m\u001b[1;33m\u001b[0m\u001b[0m\n\u001b[0;32m    268\u001b[0m             \u001b[0mall_lines\u001b[0m\u001b[1;33m=\u001b[0m\u001b[1;33m[\u001b[0m\u001b[0mline\u001b[0m\u001b[1;33m.\u001b[0m\u001b[0mstrip\u001b[0m\u001b[1;33m(\u001b[0m\u001b[1;33m)\u001b[0m \u001b[1;32mfor\u001b[0m \u001b[0mline\u001b[0m \u001b[1;32min\u001b[0m \u001b[0minput_params\u001b[0m\u001b[1;33m]\u001b[0m\u001b[1;33m\u001b[0m\u001b[1;33m\u001b[0m\u001b[0m\n",
      "\u001b[1;31mUnboundLocalError\u001b[0m: local variable 'filename' referenced before assignment"
     ]
    }
   ],
   "source": [
    "#import scrape_tools as st\n",
    "import scrape_tools as st\n",
    "\n",
    "#input_parameters=st.pull_input_params('meteorology')\n",
    "\n",
    "print('------------------------')\n",
    "precipitation=st.Documentation_Check()\n",
    "the_model='Meteorology';the_submodel='Precipitation';the_doc_type='input_parameters'\n",
    "precipitation.pull_overview(model=the_model,submodel=the_submodel,doc_type=the_doc_type)\n",
    "precipitation.pull_input_params(model=the_model)\n",
    "precipitation.do_doc_compare(model=the_model,submodel=the_submodel)\n",
    "precipitation.doc_compare_to_table()\n",
    "#print(precipitation.compare_submodel_input_param_doc_dict)\n",
    "#print('------------------------')\n",
    "#print(precipitation.compare_doc_simple_dict)\n",
    "#print(precipitation.compare_doc_simple_table)\n"
   ]
  },
  {
   "cell_type": "code",
   "execution_count": 1,
   "metadata": {},
   "outputs": [
    {
     "name": "stdout",
     "output_type": "stream",
     "text": [
      "urllib error https://raw.githubusercontent.com/quanted/hms_app/dev/models/precip_workflow/precipitation_parameters.py\n"
     ]
    },
    {
     "ename": "UnboundLocalError",
     "evalue": "local variable 'filename' referenced before assignment",
     "output_type": "error",
     "traceback": [
      "\u001b[1;31m---------------------------------------------------------------------------\u001b[0m",
      "\u001b[1;31mUnboundLocalError\u001b[0m                         Traceback (most recent call last)",
      "\u001b[1;32m<ipython-input-1-a531079a85f4>\u001b[0m in \u001b[0;36m<module>\u001b[1;34m\u001b[0m\n\u001b[0;32m      4\u001b[0m \u001b[0mthe_model\u001b[0m\u001b[1;33m=\u001b[0m\u001b[1;34m'precip_workflow'\u001b[0m\u001b[1;33m;\u001b[0m\u001b[0mthe_submodel\u001b[0m\u001b[1;33m=\u001b[0m\u001b[1;34m'precip_compare'\u001b[0m\u001b[1;33m;\u001b[0m\u001b[0mthe_doc_type\u001b[0m\u001b[1;33m=\u001b[0m\u001b[1;34m'input_parameters'\u001b[0m\u001b[1;33m\u001b[0m\u001b[1;33m\u001b[0m\u001b[0m\n\u001b[0;32m      5\u001b[0m \u001b[0mprecip_compare\u001b[0m\u001b[1;33m.\u001b[0m\u001b[0mpull_overview\u001b[0m\u001b[1;33m(\u001b[0m\u001b[0mmodel\u001b[0m\u001b[1;33m=\u001b[0m\u001b[0mthe_model\u001b[0m\u001b[1;33m,\u001b[0m\u001b[0msubmodel\u001b[0m\u001b[1;33m=\u001b[0m\u001b[0mthe_submodel\u001b[0m\u001b[1;33m,\u001b[0m\u001b[0mdoc_type\u001b[0m\u001b[1;33m=\u001b[0m\u001b[0mthe_doc_type\u001b[0m\u001b[1;33m)\u001b[0m\u001b[1;33m\u001b[0m\u001b[1;33m\u001b[0m\u001b[0m\n\u001b[1;32m----> 6\u001b[1;33m \u001b[0mprecip_compare\u001b[0m\u001b[1;33m.\u001b[0m\u001b[0mpull_input_params\u001b[0m\u001b[1;33m(\u001b[0m\u001b[0mmodel\u001b[0m\u001b[1;33m=\u001b[0m\u001b[0mthe_model\u001b[0m\u001b[1;33m)\u001b[0m\u001b[1;33m\u001b[0m\u001b[1;33m\u001b[0m\u001b[0m\n\u001b[0m\u001b[0;32m      7\u001b[0m \u001b[0mprecip_compare\u001b[0m\u001b[1;33m.\u001b[0m\u001b[0mdo_doc_compare\u001b[0m\u001b[1;33m(\u001b[0m\u001b[0mmodel\u001b[0m\u001b[1;33m=\u001b[0m\u001b[0mthe_model\u001b[0m\u001b[1;33m,\u001b[0m\u001b[0msubmodel\u001b[0m\u001b[1;33m=\u001b[0m\u001b[0mthe_submodel\u001b[0m\u001b[1;33m)\u001b[0m\u001b[1;33m\u001b[0m\u001b[1;33m\u001b[0m\u001b[0m\n\u001b[0;32m      8\u001b[0m \u001b[0mprecip_compare\u001b[0m\u001b[1;33m.\u001b[0m\u001b[0mdoc_compare_to_table\u001b[0m\u001b[1;33m(\u001b[0m\u001b[1;33m)\u001b[0m\u001b[1;33m\u001b[0m\u001b[1;33m\u001b[0m\u001b[0m\n",
      "\u001b[1;32m~\\gits\\my_scraper\\scrape_tools.py\u001b[0m in \u001b[0;36mpull_input_params\u001b[1;34m(self, model, baseurl)\u001b[0m\n\u001b[0;32m    264\u001b[0m             \u001b[0mfilename\u001b[0m\u001b[1;33m,\u001b[0m \u001b[0mheaders\u001b[0m \u001b[1;33m=\u001b[0m \u001b[0murllib\u001b[0m\u001b[1;33m.\u001b[0m\u001b[0mrequest\u001b[0m\u001b[1;33m.\u001b[0m\u001b[0murlretrieve\u001b[0m\u001b[1;33m(\u001b[0m\u001b[0mbaseurl\u001b[0m\u001b[1;33m,\u001b[0m \u001b[0mfilename\u001b[0m\u001b[1;33m=\u001b[0m\u001b[0mdir_path\u001b[0m\u001b[1;33m+\u001b[0m\u001b[1;34m\"\\\\data\\\\{}_input_param_{}.py\"\u001b[0m\u001b[1;33m.\u001b[0m\u001b[0mformat\u001b[0m\u001b[1;33m(\u001b[0m\u001b[0mmodel\u001b[0m\u001b[1;33m.\u001b[0m\u001b[0mlower\u001b[0m\u001b[1;33m(\u001b[0m\u001b[1;33m)\u001b[0m\u001b[1;33m,\u001b[0m\u001b[0mtimestr\u001b[0m\u001b[1;33m)\u001b[0m\u001b[1;33m)\u001b[0m\u001b[1;33m\u001b[0m\u001b[1;33m\u001b[0m\u001b[0m\n\u001b[0;32m    265\u001b[0m         \u001b[1;32mexcept\u001b[0m\u001b[1;33m:\u001b[0m \u001b[0mprint\u001b[0m\u001b[1;33m(\u001b[0m\u001b[1;34m'urllib error'\u001b[0m\u001b[1;33m,\u001b[0m\u001b[0mbaseurl\u001b[0m\u001b[1;33m)\u001b[0m\u001b[1;33m\u001b[0m\u001b[1;33m\u001b[0m\u001b[0m\n\u001b[1;32m--> 266\u001b[1;33m         \u001b[1;32mwith\u001b[0m \u001b[0mopen\u001b[0m\u001b[1;33m(\u001b[0m\u001b[0mfilename\u001b[0m\u001b[1;33m,\u001b[0m\u001b[1;34m'rU'\u001b[0m\u001b[1;33m)\u001b[0m \u001b[1;32mas\u001b[0m \u001b[0minput_params\u001b[0m\u001b[1;33m:\u001b[0m\u001b[1;33m\u001b[0m\u001b[1;33m\u001b[0m\u001b[0m\n\u001b[0m\u001b[0;32m    267\u001b[0m             \u001b[1;31m#use .strip() method to remove line-endings and whitespace\u001b[0m\u001b[1;33m\u001b[0m\u001b[1;33m\u001b[0m\u001b[1;33m\u001b[0m\u001b[0m\n\u001b[0;32m    268\u001b[0m             \u001b[0mall_lines\u001b[0m\u001b[1;33m=\u001b[0m\u001b[1;33m[\u001b[0m\u001b[0mline\u001b[0m\u001b[1;33m.\u001b[0m\u001b[0mstrip\u001b[0m\u001b[1;33m(\u001b[0m\u001b[1;33m)\u001b[0m \u001b[1;32mfor\u001b[0m \u001b[0mline\u001b[0m \u001b[1;32min\u001b[0m \u001b[0minput_params\u001b[0m\u001b[1;33m]\u001b[0m\u001b[1;33m\u001b[0m\u001b[1;33m\u001b[0m\u001b[0m\n",
      "\u001b[1;31mUnboundLocalError\u001b[0m: local variable 'filename' referenced before assignment"
     ]
    }
   ],
   "source": [
    "import scrape_tools as st\n",
    "input_parameters_base_url='https://raw.githubusercontent.com/quanted/hms_app/dev/models/precip_workflow/precip_compare_parameters.py'\n",
    "overview_base_url='https://github.com/quanted/hms_app/blob/dev/models/precip_workflow/precip_compare_overview.py'\n",
    "precip_compare=st.Documentation_Check()\n",
    "the_model='precip_workflow';the_submodel='precip_compare';the_doc_type='input_parameters'\n",
    "precip_compare.pull_overview(model=the_model,submodel=the_submodel,doc_type=the_doc_type)\n",
    "precip_compare.pull_input_params(model=the_model)\n",
    "precip_compare.do_doc_compare(model=the_model,submodel=the_submodel)\n",
    "precip_compare.doc_compare_to_table()"
   ]
  },
  {
   "cell_type": "code",
   "execution_count": null,
   "metadata": {},
   "outputs": [],
   "source": []
  }
 ],
 "metadata": {
  "kernelspec": {
   "display_name": "Python 3",
   "language": "python",
   "name": "python3"
  },
  "language_info": {
   "codemirror_mode": {
    "name": "ipython",
    "version": 3
   },
   "file_extension": ".py",
   "mimetype": "text/x-python",
   "name": "python",
   "nbconvert_exporter": "python",
   "pygments_lexer": "ipython3",
   "version": "3.7.3"
  }
 },
 "nbformat": 4,
 "nbformat_minor": 4
}
