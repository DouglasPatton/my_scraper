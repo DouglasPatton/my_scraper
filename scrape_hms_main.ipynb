{
 "cells": [
  {
   "cell_type": "code",
   "execution_count": 1,
   "metadata": {},
   "outputs": [
    {
     "name": "stdout",
     "output_type": "stream",
     "text": [
      "------------------------\n",
      "timelocalized doesn't have doc\n",
      "docs_with_inputs: ['source', 'stationID', 'startDate', 'endDate', 'latitude', 'longitude', 'temporalResolution', 'dateTimeFormat', 'outputFormat']\n",
      "{'source': {'from_input': {'widget': \"forms.Select(attrs={'title': 'Data source of the dataset.'}),\", 'widget_title': \"Data source of the dataset.'\", 'label': \"'Source',\", 'choices': 'STANDARD_SOURCE_OPTIONS,', 'initial': \"'NLDAS'\"}, 'from_doc': {'type': 'String', 'description': 'Time-series data source (valid sources: nldas, gldas, daymet, ncei, prism, wgen, nwm)\"'}}, 'stationID': {'from_input': {'widget': \"forms.TextInput(attrs={'title': 'NCEI station ID.'}\", 'widget_title': 'NCEI station ID'}, 'from_doc': {'type': 'String', 'description': 'NOAA NCEI station identification number.(Requires source to be set to \\'ncei\\'.\"'}}, 'startDate': {'from_input': {'widget': \"forms.TextInput(attrs={'class': 'datepicker'}),\", 'label': \"'Start Date',\", 'input_formats': 'DATE_INPUT_FORMATS,', 'initial': \"'01/01/2010'\"}, 'from_doc': {'type': 'String', 'description': 'Start date for the output timeseries.\"'}}, 'endDate': {'from_input': {'widget': \"forms.TextInput(attrs={'class': 'datepicker'}),\", 'label': \"'End Date',\", 'input_formats': 'DATE_INPUT_FORMATS,', 'initial': \"'12/31/2010'\"}, 'from_doc': {'type': 'String', 'description': 'End date for the output timeseries.\"'}}, 'latitude': {'from_input': {'widget': \"forms.NumberInput(attrs={'title': 'Latitude value for area of interest.'}),\", 'widget_title': \"Latitude value for area of interest.'\", 'label': \"'Latitude',\", 'initial': '33.925575,', 'required': 'False'}, 'from_doc': {'type': 'Number', 'description': 'Latitude coordinate for the output timeseries.\"'}}, 'longitude': {'from_input': {'widget': \"forms.NumberInput(attrs={'title': 'Longitude value for area of interest.'}),\", 'widget_title': \"Longitude value for area of interest.'\", 'label': \"'Longitude',\", 'initial': '-83.356893,', 'required': 'False'}, 'from_doc': {'type': 'Number', 'description': 'Longitude coordinate for the output timeseries.\"'}}, 'timelocalized': {'from_input': {'widget': \"forms.Select(attrs={'title': 'Set date/time timezone to local, specified by latitude and longitude values, or to GMT.'}),\", 'widget_title': \"Set date/time timezone to local, specified by latitude and longitude values, or to GMT.'\", 'label': \"'Local Time',\", 'choices': \"(('false', 'no'), ('true', 'yes')),\", 'initial': \"'true'\"}, 'from_doc': 'documentation not found'}, 'temporalResolution': {'from_input': {'widget': \"forms.Select(attrs={'title': 'Temporal resolution of the output time series data.'}),\", 'widget_title': \"Temporal resolution of the output time series data.'\", 'label': \"'Temporal Resolution',\", 'choices': '(', 'initial': '\"default\"'}, 'from_doc': {'type': 'String', 'description': 'Temporal resolution/timestep of the output timeseries. Options are limited by the \"\"default timestep of the data source. All options are: \\'default\\', \\'daily\\', \\'weekly\\', \\'monthly\\'.\"'}}, 'dateTimeFormat': {'from_input': {'widget': \"forms.TextInput(attrs={'title': 'Valid date format strings can be found here https://docs.microsoft.com/en-us/dotnet/standard/''base-types/custom-date-and-time-format-strings'}),\", 'widget_title': \"Valid date format strings can be found here https://docs.microsoft.com/en-us/dotnet/standard/''base-types/custom-date-and-time-format-strings'\", 'label': \"'Output Date Format',\", 'initial': '\"yyyy-MM-dd HH\"'}, 'from_doc': {'type': 'String', 'description': 'Format of the datetime stamp of the output timeseries. Valid options can be found \"\"here: <a href=\\\\\"https://docs.microsoft.com/en-us/dotnet/api/system.datetime.tostring?view=netcore-2.2\\\\\" target=\\\\\"_blank\\\\\">Microsoft Documentation</a>\"'}}, 'outputFormat': {'from_input': {'widget': \"forms.TextInput(attrs={'title': 'Valid data format string can be found here https://docs.microsoft.com/en-us/dotnet/standard/''base-types/standard-numeric-format-strings'}),\", 'widget_title': \"Valid data format string can be found here https://docs.microsoft.com/en-us/dotnet/standard/''base-types/standard-numeric-format-strings'\", 'label': \"'Output Data Format',\", 'initial': '\"E3\"'}, 'from_doc': {'type': 'String', 'description': \"Format of the returned API object. Valid options are: 'json'.\"}}}\n",
      "------------------------\n",
      "{'source': {'widget_title': \"Data source of the dataset.'\", 'type': 'String', 'description': 'Time-series data source (valid sources: nldas, gldas, daymet, ncei, prism, wgen, nwm)\"'}, 'stationID': {'widget_title': 'NCEI station ID', 'type': 'String', 'description': 'NOAA NCEI station identification number.(Requires source to be set to \\'ncei\\'.\"'}, 'startDate': {'widget_title': 'N/A', 'type': 'String', 'description': 'Start date for the output timeseries.\"'}, 'endDate': {'widget_title': 'N/A', 'type': 'String', 'description': 'End date for the output timeseries.\"'}, 'latitude': {'widget_title': \"Latitude value for area of interest.'\", 'type': 'Number', 'description': 'Latitude coordinate for the output timeseries.\"'}, 'longitude': {'widget_title': \"Longitude value for area of interest.'\", 'type': 'Number', 'description': 'Longitude coordinate for the output timeseries.\"'}, 'timelocalized': {'widget_title': \"Set date/time timezone to local, specified by latitude and longitude values, or to GMT.'\", 'type': '________________', 'description': '__________________________________ __________________________________ __________________________________ __________________________________ '}, 'temporalResolution': {'widget_title': \"Temporal resolution of the output time series data.'\", 'type': 'String', 'description': 'Temporal resolution/timestep of the output timeseries. Options are limited by the \"\"default timestep of the data source. All options are: \\'default\\', \\'daily\\', \\'weekly\\', \\'monthly\\'.\"'}, 'dateTimeFormat': {'widget_title': \"Valid date format strings can be found here https://docs.microsoft.com/en-us/dotnet/standard/''base-types/custom-date-and-time-format-strings'\", 'type': 'String', 'description': 'Format of the datetime stamp of the output timeseries. Valid options can be found \"\"here: <a href=\\\\\"https://docs.microsoft.com/en-us/dotnet/api/system.datetime.tostring?view=netcore-2.2\\\\\" target=\\\\\"_blank\\\\\">Microsoft Documentation</a>\"'}, 'outputFormat': {'widget_title': \"Valid data format string can be found here https://docs.microsoft.com/en-us/dotnet/standard/''base-types/standard-numeric-format-strings'\", 'type': 'String', 'description': \"Format of the returned API object. Valid options are: 'json'.\"}}\n"
     ]
    }
   ],
   "source": [
    "#import scrape_tools as st\n",
    "import scrape_tools as st\n",
    "\n",
    "#input_parameters=st.pull_input_params('meteorology')\n",
    "\n",
    "print('------------------------')\n",
    "test=st.Documentation_Check()\n",
    "the_model='Meteorology';the_submodel='Precipitation';the_doc_type='input_parameters'\n",
    "test.pull_overview(model=the_model,submodel=the_submodel,doc_type=the_doc_type)\n",
    "test.pull_input_params(model=the_model)\n",
    "test.do_doc_compare(model=the_model,submodel=the_submodel)\n",
    "test.doc_compare_to_table()\n",
    "print(test.compare_submodel_input_param_doc_dict)\n",
    "print('------------------------')\n",
    "print(test.compare_doc_simple_dict)\n",
    "\n"
   ]
  },
  {
   "cell_type": "code",
   "execution_count": 2,
   "metadata": {},
   "outputs": [
    {
     "name": "stdout",
     "output_type": "stream",
     "text": [
      "{'timelocalized': 'no documentation found', 'dateTimeSpan': 'no input_parameter found', 'geometry': 'no input_parameter found', 'point': 'no input_parameter found', 'dataValueFormat': 'no input_parameter found', 'localTime': 'no input_parameter found', 'units': 'no input_parameter found'}\n"
     ]
    }
   ],
   "source": [
    "print(test.orphan_dict)"
   ]
  },
  {
   "cell_type": "code",
   "execution_count": 3,
   "metadata": {},
   "outputs": [
    {
     "name": "stdout",
     "output_type": "stream",
     "text": [
      "                                                                                                                                                                                                                                                   description  \\\n",
      "source              Time-series data source (valid sources: nldas, gldas, daymet, ncei, prism, wgen, nwm)\"                                                                                                                                                       \n",
      "stationID           NOAA NCEI station identification number.(Requires source to be set to 'ncei'.\"                                                                                                                                                               \n",
      "startDate           Start date for the output timeseries.\"                                                                                                                                                                                                       \n",
      "endDate             End date for the output timeseries.\"                                                                                                                                                                                                         \n",
      "latitude            Latitude coordinate for the output timeseries.\"                                                                                                                                                                                              \n",
      "longitude           Longitude coordinate for the output timeseries.\"                                                                                                                                                                                             \n",
      "timelocalized       __________________________________ __________________________________ __________________________________ __________________________________                                                                                                  \n",
      "temporalResolution  Temporal resolution/timestep of the output timeseries. Options are limited by the \"\"default timestep of the data source. All options are: 'default', 'daily', 'weekly', 'monthly'.\"                                                          \n",
      "dateTimeFormat      Format of the datetime stamp of the output timeseries. Valid options can be found \"\"here: <a href=\\\"https://docs.microsoft.com/en-us/dotnet/api/system.datetime.tostring?view=netcore-2.2\\\" target=\\\"_blank\\\">Microsoft Documentation</a>\"   \n",
      "outputFormat        Format of the returned API object. Valid options are: 'json'.                                                                                                                                                                                \n",
      "\n",
      "                                type  \\\n",
      "source              String             \n",
      "stationID           String             \n",
      "startDate           String             \n",
      "endDate             String             \n",
      "latitude            Number             \n",
      "longitude           Number             \n",
      "timelocalized       ________________   \n",
      "temporalResolution  String             \n",
      "dateTimeFormat      String             \n",
      "outputFormat        String             \n",
      "\n",
      "                                                                                                                                                      widget_title  \n",
      "source              Data source of the dataset.'                                                                                                                    \n",
      "stationID           NCEI station ID                                                                                                                                 \n",
      "startDate           N/A                                                                                                                                             \n",
      "endDate             N/A                                                                                                                                             \n",
      "latitude            Latitude value for area of interest.'                                                                                                           \n",
      "longitude           Longitude value for area of interest.'                                                                                                          \n",
      "timelocalized       Set date/time timezone to local, specified by latitude and longitude values, or to GMT.'                                                        \n",
      "temporalResolution  Temporal resolution of the output time series data.'                                                                                            \n",
      "dateTimeFormat      Valid date format strings can be found here https://docs.microsoft.com/en-us/dotnet/standard/''base-types/custom-date-and-time-format-strings'  \n",
      "outputFormat        Valid data format string can be found here https://docs.microsoft.com/en-us/dotnet/standard/''base-types/standard-numeric-format-strings'       \n"
     ]
    }
   ],
   "source": [
    "print(test.compare_doc_simple_table)"
   ]
  }
 ],
 "metadata": {
  "kernelspec": {
   "display_name": "Python 3",
   "language": "python",
   "name": "python3"
  },
  "language_info": {
   "codemirror_mode": {
    "name": "ipython",
    "version": 3
   },
   "file_extension": ".py",
   "mimetype": "text/x-python",
   "name": "python",
   "nbconvert_exporter": "python",
   "pygments_lexer": "ipython3",
   "version": "3.7.3"
  }
 },
 "nbformat": 4,
 "nbformat_minor": 2
}
